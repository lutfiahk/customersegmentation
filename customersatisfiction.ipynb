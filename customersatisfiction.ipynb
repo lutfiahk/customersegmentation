{
  "cells": [
    {
      "cell_type": "markdown",
      "metadata": {
        "id": "view-in-github",
        "colab_type": "text"
      },
      "source": [
        "<a href=\"https://colab.research.google.com/github/lutfiahusnakhoirunnisa/customersegmentation/blob/main/customersatisfiction.ipynb\" target=\"_parent\"><img src=\"https://colab.research.google.com/assets/colab-badge.svg\" alt=\"Open In Colab\"/></a>"
      ]
    },
    {
      "cell_type": "code",
      "execution_count": null,
      "metadata": {
        "id": "wL5Jks-NU6iF"
      },
      "outputs": [],
      "source": [
        "import pandas as pd\n",
        "import numpy as np\n",
        "import matplotlib.pyplot as plt\n",
        "from google.colab import files"
      ]
    },
    {
      "cell_type": "code",
      "execution_count": null,
      "metadata": {
        "id": "XcfzOWPgUI2z",
        "colab": {
          "base_uri": "https://localhost:8080/"
        },
        "outputId": "5f4be36c-c3cb-47c1-fb17-5e309edbf8cc"
      },
      "outputs": [
        {
          "output_type": "stream",
          "name": "stdout",
          "text": [
            "Mounted at /content/drive\n"
          ]
        }
      ],
      "source": [
        "from google.colab import drive\n",
        "drive.mount('/content/drive')"
      ]
    },
    {
      "cell_type": "code",
      "execution_count": null,
      "metadata": {
        "id": "6modohYIURmD"
      },
      "outputs": [],
      "source": [
        "#Data importing\n",
        "dataset = pd.read_csv('/content/drive/MyDrive/train.csv')"
      ]
    },
    {
      "cell_type": "code",
      "source": [
        "#Data overview\n",
        "print(dataset.info())"
      ],
      "metadata": {
        "colab": {
          "base_uri": "https://localhost:8080/"
        },
        "id": "rWxxwL5NW_h9",
        "outputId": "d4a72c3b-1a3e-4a72-af9e-13407fe903b1"
      },
      "execution_count": null,
      "outputs": [
        {
          "output_type": "stream",
          "name": "stdout",
          "text": [
            "<class 'pandas.core.frame.DataFrame'>\n",
            "RangeIndex: 103904 entries, 0 to 103903\n",
            "Data columns (total 25 columns):\n",
            " #   Column                             Non-Null Count   Dtype  \n",
            "---  ------                             --------------   -----  \n",
            " 0   Unnamed: 0                         103904 non-null  int64  \n",
            " 1   id                                 103904 non-null  int64  \n",
            " 2   Gender                             103904 non-null  object \n",
            " 3   Customer Type                      103904 non-null  object \n",
            " 4   Age                                103904 non-null  int64  \n",
            " 5   Type of Travel                     103904 non-null  object \n",
            " 6   Class                              103904 non-null  object \n",
            " 7   Flight Distance                    103904 non-null  int64  \n",
            " 8   Inflight wifi service              103904 non-null  int64  \n",
            " 9   Departure/Arrival time convenient  103904 non-null  int64  \n",
            " 10  Ease of Online booking             103904 non-null  int64  \n",
            " 11  Gate location                      103904 non-null  int64  \n",
            " 12  Food and drink                     103904 non-null  int64  \n",
            " 13  Online boarding                    103904 non-null  int64  \n",
            " 14  Seat comfort                       103904 non-null  int64  \n",
            " 15  Inflight entertainment             103904 non-null  int64  \n",
            " 16  On-board service                   103904 non-null  int64  \n",
            " 17  Leg room service                   103904 non-null  int64  \n",
            " 18  Baggage handling                   103904 non-null  int64  \n",
            " 19  Checkin service                    103904 non-null  int64  \n",
            " 20  Inflight service                   103904 non-null  int64  \n",
            " 21  Cleanliness                        103904 non-null  int64  \n",
            " 22  Departure Delay in Minutes         103904 non-null  int64  \n",
            " 23  Arrival Delay in Minutes           103594 non-null  float64\n",
            " 24  satisfaction                       103904 non-null  object \n",
            "dtypes: float64(1), int64(19), object(5)\n",
            "memory usage: 19.8+ MB\n",
            "None\n"
          ]
        }
      ]
    },
    {
      "cell_type": "code",
      "execution_count": null,
      "metadata": {
        "id": "Dy-bhIldiQ12",
        "colab": {
          "base_uri": "https://localhost:8080/"
        },
        "outputId": "c2f86457-ba08-4041-8907-1a85b85f92b6"
      },
      "outputs": [
        {
          "output_type": "stream",
          "name": "stdout",
          "text": [
            "Checking missing value for each feature:\n",
            "Unnamed: 0                             0\n",
            "id                                     0\n",
            "Gender                                 0\n",
            "Customer Type                          0\n",
            "Age                                    0\n",
            "Type of Travel                         0\n",
            "Class                                  0\n",
            "Flight Distance                        0\n",
            "Inflight wifi service                  0\n",
            "Departure/Arrival time convenient      0\n",
            "Ease of Online booking                 0\n",
            "Gate location                          0\n",
            "Food and drink                         0\n",
            "Online boarding                        0\n",
            "Seat comfort                           0\n",
            "Inflight entertainment                 0\n",
            "On-board service                       0\n",
            "Leg room service                       0\n",
            "Baggage handling                       0\n",
            "Checkin service                        0\n",
            "Inflight service                       0\n",
            "Cleanliness                            0\n",
            "Departure Delay in Minutes             0\n",
            "Arrival Delay in Minutes             310\n",
            "satisfaction                           0\n",
            "dtype: int64\n",
            "\n",
            "Counting total missing value:\n",
            "310\n",
            "Duplicated data count: 0\n"
          ]
        }
      ],
      "source": [
        "#Data Cleansing\n",
        "#checking missing value for each feature  \n",
        "print('Checking missing value for each feature:')\n",
        "print(dataset.isnull().sum())\n",
        "#Counting total missing value\n",
        "print('\\nCounting total missing value:')\n",
        "print(dataset.isnull().sum().sum())\n",
        "#Counting the duplicated data\n",
        "print('Duplicated data count:',dataset.duplicated().sum())"
      ]
    },
    {
      "cell_type": "code",
      "source": [
        "#Delete the missing datas\n",
        "dataset = dataset.dropna()"
      ],
      "metadata": {
        "id": "UQV5PsJwJaxw"
      },
      "execution_count": null,
      "outputs": []
    },
    {
      "cell_type": "code",
      "source": [
        "print('Counting total missing value:')\n",
        "print(dataset.isna().sum().sum())"
      ],
      "metadata": {
        "id": "baPr6serJjt_",
        "colab": {
          "base_uri": "https://localhost:8080/"
        },
        "outputId": "ad3d5e3c-41e2-4040-fdce-68896a4126c3"
      },
      "execution_count": null,
      "outputs": [
        {
          "output_type": "stream",
          "name": "stdout",
          "text": [
            "Counting total missing value:\n",
            "0\n"
          ]
        }
      ]
    },
    {
      "cell_type": "code",
      "execution_count": null,
      "metadata": {
        "id": "J-7R4sYCZB-p",
        "colab": {
          "base_uri": "https://localhost:8080/"
        },
        "outputId": "162af939-f1d5-4298-89c3-a1b7062b5d17"
      },
      "outputs": [
        {
          "output_type": "stream",
          "name": "stdout",
          "text": [
            "   Unnamed: 0      id  Gender      Customer Type  Age   Type of Travel  \\\n",
            "0           0   70172    Male     Loyal Customer   13  Personal Travel   \n",
            "1           1    5047    Male  disloyal Customer   25  Business travel   \n",
            "2           2  110028  Female     Loyal Customer   26  Business travel   \n",
            "3           3   24026  Female     Loyal Customer   25  Business travel   \n",
            "4           4  119299    Male     Loyal Customer   61  Business travel   \n",
            "\n",
            "      Class  Flight Distance  Inflight wifi service  \\\n",
            "0  Eco Plus              460                      3   \n",
            "1  Business              235                      3   \n",
            "2  Business             1142                      2   \n",
            "3  Business              562                      2   \n",
            "4  Business              214                      3   \n",
            "\n",
            "   Departure/Arrival time convenient  ...  Inflight entertainment  \\\n",
            "0                                  4  ...                       5   \n",
            "1                                  2  ...                       1   \n",
            "2                                  2  ...                       5   \n",
            "3                                  5  ...                       2   \n",
            "4                                  3  ...                       3   \n",
            "\n",
            "   On-board service  Leg room service  Baggage handling  Checkin service  \\\n",
            "0                 4                 3                 4                4   \n",
            "1                 1                 5                 3                1   \n",
            "2                 4                 3                 4                4   \n",
            "3                 2                 5                 3                1   \n",
            "4                 3                 4                 4                3   \n",
            "\n",
            "   Inflight service  Cleanliness  Departure Delay in Minutes  \\\n",
            "0                 5            5                          25   \n",
            "1                 4            1                           1   \n",
            "2                 4            5                           0   \n",
            "3                 4            2                          11   \n",
            "4                 3            3                           0   \n",
            "\n",
            "   Arrival Delay in Minutes             satisfaction  \n",
            "0                      18.0  neutral or dissatisfied  \n",
            "1                       6.0  neutral or dissatisfied  \n",
            "2                       0.0                satisfied  \n",
            "3                       9.0  neutral or dissatisfied  \n",
            "4                       0.0                satisfied  \n",
            "\n",
            "[5 rows x 25 columns]\n",
            "        Unnamed: 0     id  Gender      Customer Type  Age   Type of Travel  \\\n",
            "103899      103899  94171  Female  disloyal Customer   23  Business travel   \n",
            "103900      103900  73097    Male     Loyal Customer   49  Business travel   \n",
            "103901      103901  68825    Male  disloyal Customer   30  Business travel   \n",
            "103902      103902  54173  Female  disloyal Customer   22  Business travel   \n",
            "103903      103903  62567    Male     Loyal Customer   27  Business travel   \n",
            "\n",
            "           Class  Flight Distance  Inflight wifi service  \\\n",
            "103899       Eco              192                      2   \n",
            "103900  Business             2347                      4   \n",
            "103901  Business             1995                      1   \n",
            "103902       Eco             1000                      1   \n",
            "103903  Business             1723                      1   \n",
            "\n",
            "        Departure/Arrival time convenient  ...  Inflight entertainment  \\\n",
            "103899                                  1  ...                       2   \n",
            "103900                                  4  ...                       5   \n",
            "103901                                  1  ...                       4   \n",
            "103902                                  1  ...                       1   \n",
            "103903                                  3  ...                       1   \n",
            "\n",
            "        On-board service  Leg room service  Baggage handling  Checkin service  \\\n",
            "103899                 3                 1                 4                2   \n",
            "103900                 5                 5                 5                5   \n",
            "103901                 3                 2                 4                5   \n",
            "103902                 4                 5                 1                5   \n",
            "103903                 1                 1                 4                4   \n",
            "\n",
            "        Inflight service  Cleanliness  Departure Delay in Minutes  \\\n",
            "103899                 3            2                           3   \n",
            "103900                 5            4                           0   \n",
            "103901                 5            4                           7   \n",
            "103902                 4            1                           0   \n",
            "103903                 3            1                           0   \n",
            "\n",
            "        Arrival Delay in Minutes             satisfaction  \n",
            "103899                       0.0  neutral or dissatisfied  \n",
            "103900                       0.0                satisfied  \n",
            "103901                      14.0  neutral or dissatisfied  \n",
            "103902                       0.0  neutral or dissatisfied  \n",
            "103903                       0.0  neutral or dissatisfied  \n",
            "\n",
            "[5 rows x 25 columns]\n"
          ]
        }
      ],
      "source": [
        "#Print the top 5 dan bottom 5 of the dataset\n",
        "print(dataset.head())\n",
        "print(dataset.tail())"
      ]
    },
    {
      "cell_type": "code",
      "execution_count": null,
      "metadata": {
        "id": "SIcDLrVGuVAw",
        "colab": {
          "base_uri": "https://localhost:8080/"
        },
        "outputId": "b8d20d30-bf48-42c5-cfc1-2b1fe6e25a90"
      },
      "outputs": [
        {
          "output_type": "stream",
          "name": "stdout",
          "text": [
            "<class 'pandas.core.frame.DataFrame'>\n",
            "Int64Index: 103594 entries, 0 to 103903\n",
            "Data columns (total 25 columns):\n",
            " #   Column                             Non-Null Count   Dtype  \n",
            "---  ------                             --------------   -----  \n",
            " 0   Unnamed: 0                         103594 non-null  int64  \n",
            " 1   id                                 103594 non-null  int64  \n",
            " 2   Gender                             103594 non-null  object \n",
            " 3   Customer Type                      103594 non-null  object \n",
            " 4   Age                                103594 non-null  int64  \n",
            " 5   Type of Travel                     103594 non-null  object \n",
            " 6   Class                              103594 non-null  object \n",
            " 7   Flight Distance                    103594 non-null  int64  \n",
            " 8   Inflight wifi service              103594 non-null  int64  \n",
            " 9   Departure/Arrival time convenient  103594 non-null  int64  \n",
            " 10  Ease of Online booking             103594 non-null  int64  \n",
            " 11  Gate location                      103594 non-null  int64  \n",
            " 12  Food and drink                     103594 non-null  int64  \n",
            " 13  Online boarding                    103594 non-null  int64  \n",
            " 14  Seat comfort                       103594 non-null  int64  \n",
            " 15  Inflight entertainment             103594 non-null  int64  \n",
            " 16  On-board service                   103594 non-null  int64  \n",
            " 17  Leg room service                   103594 non-null  int64  \n",
            " 18  Baggage handling                   103594 non-null  int64  \n",
            " 19  Checkin service                    103594 non-null  int64  \n",
            " 20  Inflight service                   103594 non-null  int64  \n",
            " 21  Cleanliness                        103594 non-null  int64  \n",
            " 22  Departure Delay in Minutes         103594 non-null  int64  \n",
            " 23  Arrival Delay in Minutes           103594 non-null  float64\n",
            " 24  satisfaction                       103594 non-null  object \n",
            "dtypes: float64(1), int64(19), object(5)\n",
            "memory usage: 20.5+ MB\n"
          ]
        }
      ],
      "source": [
        "#print the summary of dataset\n",
        "dataset.info()"
      ]
    },
    {
      "cell_type": "code",
      "execution_count": null,
      "metadata": {
        "id": "jb8gzMnNd4TJ",
        "colab": {
          "base_uri": "https://localhost:8080/"
        },
        "outputId": "57e63e86-ea60-47a1-9a2e-7b8407ccf48d"
      },
      "outputs": [
        {
          "output_type": "stream",
          "name": "stdout",
          "text": [
            "Num of Rows, Num of Columns: (103594, 25)\n"
          ]
        }
      ],
      "source": [
        "#print the number of columns and rows of the dataset\n",
        "print('Num of Rows, Num of Columns:', dataset.shape)"
      ]
    },
    {
      "cell_type": "code",
      "source": [
        "#computes and displays summary statistics for the dataset\n",
        "dataset[['Age','Type of Travel','Class','Flight Distance','Inflight wifi service','Departure/Arrival time convenient','Ease of Online booking','Gate location']].describe()"
      ],
      "metadata": {
        "colab": {
          "base_uri": "https://localhost:8080/",
          "height": 300
        },
        "id": "UfpwsHJSJpga",
        "outputId": "b03e8dbf-e18c-4f30-b753-d4b8843d0d55"
      },
      "execution_count": null,
      "outputs": [
        {
          "output_type": "execute_result",
          "data": {
            "text/plain": [
              "                 Age  Flight Distance  Inflight wifi service  \\\n",
              "count  103594.000000    103594.000000          103594.000000   \n",
              "mean       39.380466      1189.325202               2.729753   \n",
              "std        15.113125       997.297235               1.327866   \n",
              "min         7.000000        31.000000               0.000000   \n",
              "25%        27.000000       414.000000               2.000000   \n",
              "50%        40.000000       842.000000               3.000000   \n",
              "75%        51.000000      1743.000000               4.000000   \n",
              "max        85.000000      4983.000000               5.000000   \n",
              "\n",
              "       Departure/Arrival time convenient  Ease of Online booking  \\\n",
              "count                      103594.000000           103594.000000   \n",
              "mean                            3.060081                2.756984   \n",
              "std                             1.525233                1.398934   \n",
              "min                             0.000000                0.000000   \n",
              "25%                             2.000000                2.000000   \n",
              "50%                             3.000000                3.000000   \n",
              "75%                             4.000000                4.000000   \n",
              "max                             5.000000                5.000000   \n",
              "\n",
              "       Gate location  \n",
              "count  103594.000000  \n",
              "mean        2.977026  \n",
              "std         1.277723  \n",
              "min         0.000000  \n",
              "25%         2.000000  \n",
              "50%         3.000000  \n",
              "75%         4.000000  \n",
              "max         5.000000  "
            ],
            "text/html": [
              "\n",
              "  <div id=\"df-3cd15cf1-12c2-4b61-a644-17bc371080f2\">\n",
              "    <div class=\"colab-df-container\">\n",
              "      <div>\n",
              "<style scoped>\n",
              "    .dataframe tbody tr th:only-of-type {\n",
              "        vertical-align: middle;\n",
              "    }\n",
              "\n",
              "    .dataframe tbody tr th {\n",
              "        vertical-align: top;\n",
              "    }\n",
              "\n",
              "    .dataframe thead th {\n",
              "        text-align: right;\n",
              "    }\n",
              "</style>\n",
              "<table border=\"1\" class=\"dataframe\">\n",
              "  <thead>\n",
              "    <tr style=\"text-align: right;\">\n",
              "      <th></th>\n",
              "      <th>Age</th>\n",
              "      <th>Flight Distance</th>\n",
              "      <th>Inflight wifi service</th>\n",
              "      <th>Departure/Arrival time convenient</th>\n",
              "      <th>Ease of Online booking</th>\n",
              "      <th>Gate location</th>\n",
              "    </tr>\n",
              "  </thead>\n",
              "  <tbody>\n",
              "    <tr>\n",
              "      <th>count</th>\n",
              "      <td>103594.000000</td>\n",
              "      <td>103594.000000</td>\n",
              "      <td>103594.000000</td>\n",
              "      <td>103594.000000</td>\n",
              "      <td>103594.000000</td>\n",
              "      <td>103594.000000</td>\n",
              "    </tr>\n",
              "    <tr>\n",
              "      <th>mean</th>\n",
              "      <td>39.380466</td>\n",
              "      <td>1189.325202</td>\n",
              "      <td>2.729753</td>\n",
              "      <td>3.060081</td>\n",
              "      <td>2.756984</td>\n",
              "      <td>2.977026</td>\n",
              "    </tr>\n",
              "    <tr>\n",
              "      <th>std</th>\n",
              "      <td>15.113125</td>\n",
              "      <td>997.297235</td>\n",
              "      <td>1.327866</td>\n",
              "      <td>1.525233</td>\n",
              "      <td>1.398934</td>\n",
              "      <td>1.277723</td>\n",
              "    </tr>\n",
              "    <tr>\n",
              "      <th>min</th>\n",
              "      <td>7.000000</td>\n",
              "      <td>31.000000</td>\n",
              "      <td>0.000000</td>\n",
              "      <td>0.000000</td>\n",
              "      <td>0.000000</td>\n",
              "      <td>0.000000</td>\n",
              "    </tr>\n",
              "    <tr>\n",
              "      <th>25%</th>\n",
              "      <td>27.000000</td>\n",
              "      <td>414.000000</td>\n",
              "      <td>2.000000</td>\n",
              "      <td>2.000000</td>\n",
              "      <td>2.000000</td>\n",
              "      <td>2.000000</td>\n",
              "    </tr>\n",
              "    <tr>\n",
              "      <th>50%</th>\n",
              "      <td>40.000000</td>\n",
              "      <td>842.000000</td>\n",
              "      <td>3.000000</td>\n",
              "      <td>3.000000</td>\n",
              "      <td>3.000000</td>\n",
              "      <td>3.000000</td>\n",
              "    </tr>\n",
              "    <tr>\n",
              "      <th>75%</th>\n",
              "      <td>51.000000</td>\n",
              "      <td>1743.000000</td>\n",
              "      <td>4.000000</td>\n",
              "      <td>4.000000</td>\n",
              "      <td>4.000000</td>\n",
              "      <td>4.000000</td>\n",
              "    </tr>\n",
              "    <tr>\n",
              "      <th>max</th>\n",
              "      <td>85.000000</td>\n",
              "      <td>4983.000000</td>\n",
              "      <td>5.000000</td>\n",
              "      <td>5.000000</td>\n",
              "      <td>5.000000</td>\n",
              "      <td>5.000000</td>\n",
              "    </tr>\n",
              "  </tbody>\n",
              "</table>\n",
              "</div>\n",
              "      <button class=\"colab-df-convert\" onclick=\"convertToInteractive('df-3cd15cf1-12c2-4b61-a644-17bc371080f2')\"\n",
              "              title=\"Convert this dataframe to an interactive table.\"\n",
              "              style=\"display:none;\">\n",
              "        \n",
              "  <svg xmlns=\"http://www.w3.org/2000/svg\" height=\"24px\"viewBox=\"0 0 24 24\"\n",
              "       width=\"24px\">\n",
              "    <path d=\"M0 0h24v24H0V0z\" fill=\"none\"/>\n",
              "    <path d=\"M18.56 5.44l.94 2.06.94-2.06 2.06-.94-2.06-.94-.94-2.06-.94 2.06-2.06.94zm-11 1L8.5 8.5l.94-2.06 2.06-.94-2.06-.94L8.5 2.5l-.94 2.06-2.06.94zm10 10l.94 2.06.94-2.06 2.06-.94-2.06-.94-.94-2.06-.94 2.06-2.06.94z\"/><path d=\"M17.41 7.96l-1.37-1.37c-.4-.4-.92-.59-1.43-.59-.52 0-1.04.2-1.43.59L10.3 9.45l-7.72 7.72c-.78.78-.78 2.05 0 2.83L4 21.41c.39.39.9.59 1.41.59.51 0 1.02-.2 1.41-.59l7.78-7.78 2.81-2.81c.8-.78.8-2.07 0-2.86zM5.41 20L4 18.59l7.72-7.72 1.47 1.35L5.41 20z\"/>\n",
              "  </svg>\n",
              "      </button>\n",
              "      \n",
              "  <style>\n",
              "    .colab-df-container {\n",
              "      display:flex;\n",
              "      flex-wrap:wrap;\n",
              "      gap: 12px;\n",
              "    }\n",
              "\n",
              "    .colab-df-convert {\n",
              "      background-color: #E8F0FE;\n",
              "      border: none;\n",
              "      border-radius: 50%;\n",
              "      cursor: pointer;\n",
              "      display: none;\n",
              "      fill: #1967D2;\n",
              "      height: 32px;\n",
              "      padding: 0 0 0 0;\n",
              "      width: 32px;\n",
              "    }\n",
              "\n",
              "    .colab-df-convert:hover {\n",
              "      background-color: #E2EBFA;\n",
              "      box-shadow: 0px 1px 2px rgba(60, 64, 67, 0.3), 0px 1px 3px 1px rgba(60, 64, 67, 0.15);\n",
              "      fill: #174EA6;\n",
              "    }\n",
              "\n",
              "    [theme=dark] .colab-df-convert {\n",
              "      background-color: #3B4455;\n",
              "      fill: #D2E3FC;\n",
              "    }\n",
              "\n",
              "    [theme=dark] .colab-df-convert:hover {\n",
              "      background-color: #434B5C;\n",
              "      box-shadow: 0px 1px 3px 1px rgba(0, 0, 0, 0.15);\n",
              "      filter: drop-shadow(0px 1px 2px rgba(0, 0, 0, 0.3));\n",
              "      fill: #FFFFFF;\n",
              "    }\n",
              "  </style>\n",
              "\n",
              "      <script>\n",
              "        const buttonEl =\n",
              "          document.querySelector('#df-3cd15cf1-12c2-4b61-a644-17bc371080f2 button.colab-df-convert');\n",
              "        buttonEl.style.display =\n",
              "          google.colab.kernel.accessAllowed ? 'block' : 'none';\n",
              "\n",
              "        async function convertToInteractive(key) {\n",
              "          const element = document.querySelector('#df-3cd15cf1-12c2-4b61-a644-17bc371080f2');\n",
              "          const dataTable =\n",
              "            await google.colab.kernel.invokeFunction('convertToInteractive',\n",
              "                                                     [key], {});\n",
              "          if (!dataTable) return;\n",
              "\n",
              "          const docLinkHtml = 'Like what you see? Visit the ' +\n",
              "            '<a target=\"_blank\" href=https://colab.research.google.com/notebooks/data_table.ipynb>data table notebook</a>'\n",
              "            + ' to learn more about interactive tables.';\n",
              "          element.innerHTML = '';\n",
              "          dataTable['output_type'] = 'display_data';\n",
              "          await google.colab.output.renderOutput(dataTable, element);\n",
              "          const docLink = document.createElement('div');\n",
              "          docLink.innerHTML = docLinkHtml;\n",
              "          element.appendChild(docLink);\n",
              "        }\n",
              "      </script>\n",
              "    </div>\n",
              "  </div>\n",
              "  "
            ]
          },
          "metadata": {},
          "execution_count": 37
        }
      ]
    },
    {
      "cell_type": "code",
      "source": [
        "#computes and displays summary statistics for the dataset\n",
        "dataset[['Food and drink','Online boarding','Seat comfort','Inflight entertainment','On-board service','Leg room service']].describe()"
      ],
      "metadata": {
        "colab": {
          "base_uri": "https://localhost:8080/",
          "height": 300
        },
        "id": "4zuS7SYivSOP",
        "outputId": "dab7bff2-56bd-444d-be2b-3183c430d428"
      },
      "execution_count": null,
      "outputs": [
        {
          "output_type": "execute_result",
          "data": {
            "text/plain": [
              "       Food and drink  Online boarding   Seat comfort  Inflight entertainment  \\\n",
              "count   103594.000000    103594.000000  103594.000000           103594.000000   \n",
              "mean         3.202126         3.250497       3.439765                3.358341   \n",
              "std          1.329401         1.349433       1.318896                1.333030   \n",
              "min          0.000000         0.000000       0.000000                0.000000   \n",
              "25%          2.000000         2.000000       2.000000                2.000000   \n",
              "50%          3.000000         3.000000       4.000000                4.000000   \n",
              "75%          4.000000         4.000000       5.000000                4.000000   \n",
              "max          5.000000         5.000000       5.000000                5.000000   \n",
              "\n",
              "       On-board service  Leg room service  \n",
              "count     103594.000000     103594.000000  \n",
              "mean           3.382609          3.351401  \n",
              "std            1.288284          1.315409  \n",
              "min            0.000000          0.000000  \n",
              "25%            2.000000          2.000000  \n",
              "50%            4.000000          4.000000  \n",
              "75%            4.000000          4.000000  \n",
              "max            5.000000          5.000000  "
            ],
            "text/html": [
              "\n",
              "  <div id=\"df-f071814f-c878-40c3-a486-399637bba544\">\n",
              "    <div class=\"colab-df-container\">\n",
              "      <div>\n",
              "<style scoped>\n",
              "    .dataframe tbody tr th:only-of-type {\n",
              "        vertical-align: middle;\n",
              "    }\n",
              "\n",
              "    .dataframe tbody tr th {\n",
              "        vertical-align: top;\n",
              "    }\n",
              "\n",
              "    .dataframe thead th {\n",
              "        text-align: right;\n",
              "    }\n",
              "</style>\n",
              "<table border=\"1\" class=\"dataframe\">\n",
              "  <thead>\n",
              "    <tr style=\"text-align: right;\">\n",
              "      <th></th>\n",
              "      <th>Food and drink</th>\n",
              "      <th>Online boarding</th>\n",
              "      <th>Seat comfort</th>\n",
              "      <th>Inflight entertainment</th>\n",
              "      <th>On-board service</th>\n",
              "      <th>Leg room service</th>\n",
              "    </tr>\n",
              "  </thead>\n",
              "  <tbody>\n",
              "    <tr>\n",
              "      <th>count</th>\n",
              "      <td>103594.000000</td>\n",
              "      <td>103594.000000</td>\n",
              "      <td>103594.000000</td>\n",
              "      <td>103594.000000</td>\n",
              "      <td>103594.000000</td>\n",
              "      <td>103594.000000</td>\n",
              "    </tr>\n",
              "    <tr>\n",
              "      <th>mean</th>\n",
              "      <td>3.202126</td>\n",
              "      <td>3.250497</td>\n",
              "      <td>3.439765</td>\n",
              "      <td>3.358341</td>\n",
              "      <td>3.382609</td>\n",
              "      <td>3.351401</td>\n",
              "    </tr>\n",
              "    <tr>\n",
              "      <th>std</th>\n",
              "      <td>1.329401</td>\n",
              "      <td>1.349433</td>\n",
              "      <td>1.318896</td>\n",
              "      <td>1.333030</td>\n",
              "      <td>1.288284</td>\n",
              "      <td>1.315409</td>\n",
              "    </tr>\n",
              "    <tr>\n",
              "      <th>min</th>\n",
              "      <td>0.000000</td>\n",
              "      <td>0.000000</td>\n",
              "      <td>0.000000</td>\n",
              "      <td>0.000000</td>\n",
              "      <td>0.000000</td>\n",
              "      <td>0.000000</td>\n",
              "    </tr>\n",
              "    <tr>\n",
              "      <th>25%</th>\n",
              "      <td>2.000000</td>\n",
              "      <td>2.000000</td>\n",
              "      <td>2.000000</td>\n",
              "      <td>2.000000</td>\n",
              "      <td>2.000000</td>\n",
              "      <td>2.000000</td>\n",
              "    </tr>\n",
              "    <tr>\n",
              "      <th>50%</th>\n",
              "      <td>3.000000</td>\n",
              "      <td>3.000000</td>\n",
              "      <td>4.000000</td>\n",
              "      <td>4.000000</td>\n",
              "      <td>4.000000</td>\n",
              "      <td>4.000000</td>\n",
              "    </tr>\n",
              "    <tr>\n",
              "      <th>75%</th>\n",
              "      <td>4.000000</td>\n",
              "      <td>4.000000</td>\n",
              "      <td>5.000000</td>\n",
              "      <td>4.000000</td>\n",
              "      <td>4.000000</td>\n",
              "      <td>4.000000</td>\n",
              "    </tr>\n",
              "    <tr>\n",
              "      <th>max</th>\n",
              "      <td>5.000000</td>\n",
              "      <td>5.000000</td>\n",
              "      <td>5.000000</td>\n",
              "      <td>5.000000</td>\n",
              "      <td>5.000000</td>\n",
              "      <td>5.000000</td>\n",
              "    </tr>\n",
              "  </tbody>\n",
              "</table>\n",
              "</div>\n",
              "      <button class=\"colab-df-convert\" onclick=\"convertToInteractive('df-f071814f-c878-40c3-a486-399637bba544')\"\n",
              "              title=\"Convert this dataframe to an interactive table.\"\n",
              "              style=\"display:none;\">\n",
              "        \n",
              "  <svg xmlns=\"http://www.w3.org/2000/svg\" height=\"24px\"viewBox=\"0 0 24 24\"\n",
              "       width=\"24px\">\n",
              "    <path d=\"M0 0h24v24H0V0z\" fill=\"none\"/>\n",
              "    <path d=\"M18.56 5.44l.94 2.06.94-2.06 2.06-.94-2.06-.94-.94-2.06-.94 2.06-2.06.94zm-11 1L8.5 8.5l.94-2.06 2.06-.94-2.06-.94L8.5 2.5l-.94 2.06-2.06.94zm10 10l.94 2.06.94-2.06 2.06-.94-2.06-.94-.94-2.06-.94 2.06-2.06.94z\"/><path d=\"M17.41 7.96l-1.37-1.37c-.4-.4-.92-.59-1.43-.59-.52 0-1.04.2-1.43.59L10.3 9.45l-7.72 7.72c-.78.78-.78 2.05 0 2.83L4 21.41c.39.39.9.59 1.41.59.51 0 1.02-.2 1.41-.59l7.78-7.78 2.81-2.81c.8-.78.8-2.07 0-2.86zM5.41 20L4 18.59l7.72-7.72 1.47 1.35L5.41 20z\"/>\n",
              "  </svg>\n",
              "      </button>\n",
              "      \n",
              "  <style>\n",
              "    .colab-df-container {\n",
              "      display:flex;\n",
              "      flex-wrap:wrap;\n",
              "      gap: 12px;\n",
              "    }\n",
              "\n",
              "    .colab-df-convert {\n",
              "      background-color: #E8F0FE;\n",
              "      border: none;\n",
              "      border-radius: 50%;\n",
              "      cursor: pointer;\n",
              "      display: none;\n",
              "      fill: #1967D2;\n",
              "      height: 32px;\n",
              "      padding: 0 0 0 0;\n",
              "      width: 32px;\n",
              "    }\n",
              "\n",
              "    .colab-df-convert:hover {\n",
              "      background-color: #E2EBFA;\n",
              "      box-shadow: 0px 1px 2px rgba(60, 64, 67, 0.3), 0px 1px 3px 1px rgba(60, 64, 67, 0.15);\n",
              "      fill: #174EA6;\n",
              "    }\n",
              "\n",
              "    [theme=dark] .colab-df-convert {\n",
              "      background-color: #3B4455;\n",
              "      fill: #D2E3FC;\n",
              "    }\n",
              "\n",
              "    [theme=dark] .colab-df-convert:hover {\n",
              "      background-color: #434B5C;\n",
              "      box-shadow: 0px 1px 3px 1px rgba(0, 0, 0, 0.15);\n",
              "      filter: drop-shadow(0px 1px 2px rgba(0, 0, 0, 0.3));\n",
              "      fill: #FFFFFF;\n",
              "    }\n",
              "  </style>\n",
              "\n",
              "      <script>\n",
              "        const buttonEl =\n",
              "          document.querySelector('#df-f071814f-c878-40c3-a486-399637bba544 button.colab-df-convert');\n",
              "        buttonEl.style.display =\n",
              "          google.colab.kernel.accessAllowed ? 'block' : 'none';\n",
              "\n",
              "        async function convertToInteractive(key) {\n",
              "          const element = document.querySelector('#df-f071814f-c878-40c3-a486-399637bba544');\n",
              "          const dataTable =\n",
              "            await google.colab.kernel.invokeFunction('convertToInteractive',\n",
              "                                                     [key], {});\n",
              "          if (!dataTable) return;\n",
              "\n",
              "          const docLinkHtml = 'Like what you see? Visit the ' +\n",
              "            '<a target=\"_blank\" href=https://colab.research.google.com/notebooks/data_table.ipynb>data table notebook</a>'\n",
              "            + ' to learn more about interactive tables.';\n",
              "          element.innerHTML = '';\n",
              "          dataTable['output_type'] = 'display_data';\n",
              "          await google.colab.output.renderOutput(dataTable, element);\n",
              "          const docLink = document.createElement('div');\n",
              "          docLink.innerHTML = docLinkHtml;\n",
              "          element.appendChild(docLink);\n",
              "        }\n",
              "      </script>\n",
              "    </div>\n",
              "  </div>\n",
              "  "
            ]
          },
          "metadata": {},
          "execution_count": 39
        }
      ]
    },
    {
      "cell_type": "code",
      "source": [
        "#computes and displays summary statistics for the dataset\n",
        "dataset[['Baggage handling','Checkin service','Inflight service','Cleanliness','Departure Delay in Minutes','Arrival Delay in Minutes']].describe()"
      ],
      "metadata": {
        "colab": {
          "base_uri": "https://localhost:8080/",
          "height": 300
        },
        "id": "txgqyDX2wAwM",
        "outputId": "94b4dfcc-20ad-46a9-e0ed-485cd453ed67"
      },
      "execution_count": null,
      "outputs": [
        {
          "output_type": "execute_result",
          "data": {
            "text/plain": [
              "       Baggage handling  Checkin service  Inflight service    Cleanliness  \\\n",
              "count     103594.000000    103594.000000     103594.000000  103594.000000   \n",
              "mean           3.631687         3.304323          3.640761       3.286397   \n",
              "std            1.181051         1.265396          1.175603       1.312194   \n",
              "min            1.000000         0.000000          0.000000       0.000000   \n",
              "25%            3.000000         3.000000          3.000000       2.000000   \n",
              "50%            4.000000         3.000000          4.000000       3.000000   \n",
              "75%            5.000000         4.000000          5.000000       4.000000   \n",
              "max            5.000000         5.000000          5.000000       5.000000   \n",
              "\n",
              "       Departure Delay in Minutes  Arrival Delay in Minutes  \n",
              "count               103594.000000             103594.000000  \n",
              "mean                    14.747939                 15.178678  \n",
              "std                     38.116737                 38.698682  \n",
              "min                      0.000000                  0.000000  \n",
              "25%                      0.000000                  0.000000  \n",
              "50%                      0.000000                  0.000000  \n",
              "75%                     12.000000                 13.000000  \n",
              "max                   1592.000000               1584.000000  "
            ],
            "text/html": [
              "\n",
              "  <div id=\"df-cd0f86f3-c208-45d9-8ba3-c2ec7003fd02\">\n",
              "    <div class=\"colab-df-container\">\n",
              "      <div>\n",
              "<style scoped>\n",
              "    .dataframe tbody tr th:only-of-type {\n",
              "        vertical-align: middle;\n",
              "    }\n",
              "\n",
              "    .dataframe tbody tr th {\n",
              "        vertical-align: top;\n",
              "    }\n",
              "\n",
              "    .dataframe thead th {\n",
              "        text-align: right;\n",
              "    }\n",
              "</style>\n",
              "<table border=\"1\" class=\"dataframe\">\n",
              "  <thead>\n",
              "    <tr style=\"text-align: right;\">\n",
              "      <th></th>\n",
              "      <th>Baggage handling</th>\n",
              "      <th>Checkin service</th>\n",
              "      <th>Inflight service</th>\n",
              "      <th>Cleanliness</th>\n",
              "      <th>Departure Delay in Minutes</th>\n",
              "      <th>Arrival Delay in Minutes</th>\n",
              "    </tr>\n",
              "  </thead>\n",
              "  <tbody>\n",
              "    <tr>\n",
              "      <th>count</th>\n",
              "      <td>103594.000000</td>\n",
              "      <td>103594.000000</td>\n",
              "      <td>103594.000000</td>\n",
              "      <td>103594.000000</td>\n",
              "      <td>103594.000000</td>\n",
              "      <td>103594.000000</td>\n",
              "    </tr>\n",
              "    <tr>\n",
              "      <th>mean</th>\n",
              "      <td>3.631687</td>\n",
              "      <td>3.304323</td>\n",
              "      <td>3.640761</td>\n",
              "      <td>3.286397</td>\n",
              "      <td>14.747939</td>\n",
              "      <td>15.178678</td>\n",
              "    </tr>\n",
              "    <tr>\n",
              "      <th>std</th>\n",
              "      <td>1.181051</td>\n",
              "      <td>1.265396</td>\n",
              "      <td>1.175603</td>\n",
              "      <td>1.312194</td>\n",
              "      <td>38.116737</td>\n",
              "      <td>38.698682</td>\n",
              "    </tr>\n",
              "    <tr>\n",
              "      <th>min</th>\n",
              "      <td>1.000000</td>\n",
              "      <td>0.000000</td>\n",
              "      <td>0.000000</td>\n",
              "      <td>0.000000</td>\n",
              "      <td>0.000000</td>\n",
              "      <td>0.000000</td>\n",
              "    </tr>\n",
              "    <tr>\n",
              "      <th>25%</th>\n",
              "      <td>3.000000</td>\n",
              "      <td>3.000000</td>\n",
              "      <td>3.000000</td>\n",
              "      <td>2.000000</td>\n",
              "      <td>0.000000</td>\n",
              "      <td>0.000000</td>\n",
              "    </tr>\n",
              "    <tr>\n",
              "      <th>50%</th>\n",
              "      <td>4.000000</td>\n",
              "      <td>3.000000</td>\n",
              "      <td>4.000000</td>\n",
              "      <td>3.000000</td>\n",
              "      <td>0.000000</td>\n",
              "      <td>0.000000</td>\n",
              "    </tr>\n",
              "    <tr>\n",
              "      <th>75%</th>\n",
              "      <td>5.000000</td>\n",
              "      <td>4.000000</td>\n",
              "      <td>5.000000</td>\n",
              "      <td>4.000000</td>\n",
              "      <td>12.000000</td>\n",
              "      <td>13.000000</td>\n",
              "    </tr>\n",
              "    <tr>\n",
              "      <th>max</th>\n",
              "      <td>5.000000</td>\n",
              "      <td>5.000000</td>\n",
              "      <td>5.000000</td>\n",
              "      <td>5.000000</td>\n",
              "      <td>1592.000000</td>\n",
              "      <td>1584.000000</td>\n",
              "    </tr>\n",
              "  </tbody>\n",
              "</table>\n",
              "</div>\n",
              "      <button class=\"colab-df-convert\" onclick=\"convertToInteractive('df-cd0f86f3-c208-45d9-8ba3-c2ec7003fd02')\"\n",
              "              title=\"Convert this dataframe to an interactive table.\"\n",
              "              style=\"display:none;\">\n",
              "        \n",
              "  <svg xmlns=\"http://www.w3.org/2000/svg\" height=\"24px\"viewBox=\"0 0 24 24\"\n",
              "       width=\"24px\">\n",
              "    <path d=\"M0 0h24v24H0V0z\" fill=\"none\"/>\n",
              "    <path d=\"M18.56 5.44l.94 2.06.94-2.06 2.06-.94-2.06-.94-.94-2.06-.94 2.06-2.06.94zm-11 1L8.5 8.5l.94-2.06 2.06-.94-2.06-.94L8.5 2.5l-.94 2.06-2.06.94zm10 10l.94 2.06.94-2.06 2.06-.94-2.06-.94-.94-2.06-.94 2.06-2.06.94z\"/><path d=\"M17.41 7.96l-1.37-1.37c-.4-.4-.92-.59-1.43-.59-.52 0-1.04.2-1.43.59L10.3 9.45l-7.72 7.72c-.78.78-.78 2.05 0 2.83L4 21.41c.39.39.9.59 1.41.59.51 0 1.02-.2 1.41-.59l7.78-7.78 2.81-2.81c.8-.78.8-2.07 0-2.86zM5.41 20L4 18.59l7.72-7.72 1.47 1.35L5.41 20z\"/>\n",
              "  </svg>\n",
              "      </button>\n",
              "      \n",
              "  <style>\n",
              "    .colab-df-container {\n",
              "      display:flex;\n",
              "      flex-wrap:wrap;\n",
              "      gap: 12px;\n",
              "    }\n",
              "\n",
              "    .colab-df-convert {\n",
              "      background-color: #E8F0FE;\n",
              "      border: none;\n",
              "      border-radius: 50%;\n",
              "      cursor: pointer;\n",
              "      display: none;\n",
              "      fill: #1967D2;\n",
              "      height: 32px;\n",
              "      padding: 0 0 0 0;\n",
              "      width: 32px;\n",
              "    }\n",
              "\n",
              "    .colab-df-convert:hover {\n",
              "      background-color: #E2EBFA;\n",
              "      box-shadow: 0px 1px 2px rgba(60, 64, 67, 0.3), 0px 1px 3px 1px rgba(60, 64, 67, 0.15);\n",
              "      fill: #174EA6;\n",
              "    }\n",
              "\n",
              "    [theme=dark] .colab-df-convert {\n",
              "      background-color: #3B4455;\n",
              "      fill: #D2E3FC;\n",
              "    }\n",
              "\n",
              "    [theme=dark] .colab-df-convert:hover {\n",
              "      background-color: #434B5C;\n",
              "      box-shadow: 0px 1px 3px 1px rgba(0, 0, 0, 0.15);\n",
              "      filter: drop-shadow(0px 1px 2px rgba(0, 0, 0, 0.3));\n",
              "      fill: #FFFFFF;\n",
              "    }\n",
              "  </style>\n",
              "\n",
              "      <script>\n",
              "        const buttonEl =\n",
              "          document.querySelector('#df-cd0f86f3-c208-45d9-8ba3-c2ec7003fd02 button.colab-df-convert');\n",
              "        buttonEl.style.display =\n",
              "          google.colab.kernel.accessAllowed ? 'block' : 'none';\n",
              "\n",
              "        async function convertToInteractive(key) {\n",
              "          const element = document.querySelector('#df-cd0f86f3-c208-45d9-8ba3-c2ec7003fd02');\n",
              "          const dataTable =\n",
              "            await google.colab.kernel.invokeFunction('convertToInteractive',\n",
              "                                                     [key], {});\n",
              "          if (!dataTable) return;\n",
              "\n",
              "          const docLinkHtml = 'Like what you see? Visit the ' +\n",
              "            '<a target=\"_blank\" href=https://colab.research.google.com/notebooks/data_table.ipynb>data table notebook</a>'\n",
              "            + ' to learn more about interactive tables.';\n",
              "          element.innerHTML = '';\n",
              "          dataTable['output_type'] = 'display_data';\n",
              "          await google.colab.output.renderOutput(dataTable, element);\n",
              "          const docLink = document.createElement('div');\n",
              "          docLink.innerHTML = docLinkHtml;\n",
              "          element.appendChild(docLink);\n",
              "        }\n",
              "      </script>\n",
              "    </div>\n",
              "  </div>\n",
              "  "
            ]
          },
          "metadata": {},
          "execution_count": 40
        }
      ]
    },
    {
      "cell_type": "code",
      "source": [
        "#Gender distribution\n",
        "import matplotlib.pyplot as plt\n",
        "import pandas as pd\n",
        "\n",
        "dataset.groupby(['Gender', 'satisfaction']).size().unstack().plot(kind='bar',stacked=False)\n",
        "plt.xticks(rotation = 45)\n",
        "plt.show()"
      ],
      "metadata": {
        "colab": {
          "base_uri": "https://localhost:8080/",
          "height": 302
        },
        "id": "YBLcDyooLvGP",
        "outputId": "e89c13d2-1bb2-4fff-9a8b-55b132c358da"
      },
      "execution_count": null,
      "outputs": [
        {
          "output_type": "display_data",
          "data": {
            "text/plain": [
              "<Figure size 432x288 with 1 Axes>"
            ],
            "image/png": "[encoded data removed]"
          },
          "metadata": {
            "needs_background": "light"
          }
        }
      ]
    },
    {
      "cell_type": "code",
      "source": [
        "#Customer Type distribution\n",
        "import matplotlib.pyplot as plt\n",
        "import pandas as pd\n",
        "\n",
        "dataset.groupby(['Customer Type', 'satisfaction']).size().unstack().plot(kind='bar',stacked=False)\n",
        "plt.xticks(rotation = 45)\n",
        "plt.show()"
      ],
      "metadata": {
        "colab": {
          "base_uri": "https://localhost:8080/",
          "height": 340
        },
        "id": "Wv7e8E-9L541",
        "outputId": "143926e3-5750-4e0b-9ace-dfce99e2f894"
      },
      "execution_count": null,
      "outputs": [
        {
          "output_type": "display_data",
          "data": {
            "text/plain": [
              "<Figure size 432x288 with 1 Axes>"
            ],
            "image/png": "[encoded data removed]"
          },
          "metadata": {
            "needs_background": "light"
          }
        }
      ]
    },
    {
      "cell_type": "code",
      "source": [
        "#Type of Travel distribution\n",
        "import matplotlib.pyplot as plt\n",
        "import pandas as pd\n",
        "\n",
        "dataset.groupby(['Type of Travel', 'satisfaction']).size().unstack().plot(kind='bar',stacked=False)\n",
        "plt.xticks(rotation = 45)\n",
        "plt.show()"
      ],
      "metadata": {
        "colab": {
          "base_uri": "https://localhost:8080/",
          "height": 331
        },
        "id": "UEG_HzSqL-lR",
        "outputId": "97e9b0ce-41b6-40d0-ad88-dfe3857f4fc3"
      },
      "execution_count": null,
      "outputs": [
        {
          "output_type": "display_data",
          "data": {
            "text/plain": [
              "<Figure size 432x288 with 1 Axes>"
            ],
            "image/png": "[encoded data removed]"
          },
          "metadata": {
            "needs_background": "light"
          }
        }
      ]
    },
    {
      "cell_type": "code",
      "source": [
        "#Class distribution\n",
        "import matplotlib.pyplot as plt\n",
        "import pandas as pd\n",
        "\n",
        "dataset.groupby(['Class', 'satisfaction']).size().unstack().plot(kind='bar',stacked=False)\n",
        "plt.xticks(rotation = 45)\n",
        "plt.show()"
      ],
      "metadata": {
        "colab": {
          "base_uri": "https://localhost:8080/",
          "height": 308
        },
        "id": "sGXVPvWNMLiM",
        "outputId": "cab6df04-3903-47bf-8c30-0d0953c6302b"
      },
      "execution_count": null,
      "outputs": [
        {
          "output_type": "display_data",
          "data": {
            "text/plain": [
              "<Figure size 432x288 with 1 Axes>"
            ],
            "image/png": "[encoded data removed]"
          },
          "metadata": {
            "needs_background": "light"
          }
        }
      ]
    },
    {
      "cell_type": "code",
      "execution_count": null,
      "metadata": {
        "id": "orx8GaY6VXqL",
        "colab": {
          "base_uri": "https://localhost:8080/"
        },
        "outputId": "1502c72c-1d81-40a5-9928-81b972a1d3e3"
      },
      "outputs": [
        {
          "output_type": "stream",
          "name": "stdout",
          "text": [
            "Looking in indexes: https://pypi.org/simple, https://us-python.pkg.dev/colab-wheels/public/simple/\n",
            "Collecting scikit-learn==0.23.1\n",
            "  Downloading scikit_learn-0.23.1-cp37-cp37m-manylinux1_x86_64.whl (6.8 MB)\n",
            "\u001b[K     |████████████████████████████████| 6.8 MB 26.5 MB/s \n",
            "\u001b[?25hRequirement already satisfied: threadpoolctl>=2.0.0 in /usr/local/lib/python3.7/dist-packages (from scikit-learn==0.23.1) (3.1.0)\n",
            "Requirement already satisfied: numpy>=1.13.3 in /usr/local/lib/python3.7/dist-packages (from scikit-learn==0.23.1) (1.21.6)\n",
            "Requirement already satisfied: scipy>=0.19.1 in /usr/local/lib/python3.7/dist-packages (from scikit-learn==0.23.1) (1.7.3)\n",
            "Requirement already satisfied: joblib>=0.11 in /usr/local/lib/python3.7/dist-packages (from scikit-learn==0.23.1) (1.1.0)\n",
            "Installing collected packages: scikit-learn\n",
            "  Attempting uninstall: scikit-learn\n",
            "    Found existing installation: scikit-learn 1.0.2\n",
            "    Uninstalling scikit-learn-1.0.2:\n",
            "      Successfully uninstalled scikit-learn-1.0.2\n",
            "\u001b[31mERROR: pip's dependency resolver does not currently take into account all the packages that are installed. This behaviour is the source of the following dependency conflicts.\n",
            "yellowbrick 1.5 requires scikit-learn>=1.0.0, but you have scikit-learn 0.23.1 which is incompatible.\n",
            "imbalanced-learn 0.8.1 requires scikit-learn>=0.24, but you have scikit-learn 0.23.1 which is incompatible.\u001b[0m\n",
            "Successfully installed scikit-learn-0.23.1\n"
          ]
        }
      ],
      "source": [
        "pip install -U \"scikit-learn==0.23.1\""
      ]
    },
    {
      "cell_type": "code",
      "source": [
        "# change data to categorical = binary-class\n",
        "# satisfied -> 1, dissatisfied -> 0\n",
        "\n",
        "dataset['satisfaction'] = dataset['satisfaction'].apply(lambda x: 0 if 'dissatisfied' in x else 1)"
      ],
      "metadata": {
        "id": "duZn6fdxmFRw"
      },
      "execution_count": null,
      "outputs": []
    },
    {
      "cell_type": "code",
      "source": [
        "#Separate the target and features column\n",
        "target = dataset[['satisfaction']]\n",
        "features = dataset.drop(['Unnamed: 0','id','satisfaction'], axis=1)"
      ],
      "metadata": {
        "id": "qJB3AaA8lce5"
      },
      "execution_count": null,
      "outputs": []
    },
    {
      "cell_type": "code",
      "source": [
        "#converts categorical data of features dataset into dummy or indicator variables\n",
        "features = pd.get_dummies(features)"
      ],
      "metadata": {
        "id": "ngzJguJmSMXG"
      },
      "execution_count": null,
      "outputs": []
    },
    {
      "cell_type": "code",
      "execution_count": null,
      "metadata": {
        "id": "Mf5hU0l_ZWM0",
        "colab": {
          "base_uri": "https://localhost:8080/"
        },
        "outputId": "3b01b86e-c6aa-4a9d-c6d0-2e7eab1c79cc"
      },
      "outputs": [
        {
          "output_type": "stream",
          "name": "stdout",
          "text": [
            "length of X_train : 72515\n",
            "length of y_train : 72515\n",
            "length of X_test 31079\n",
            "length of y_test 31079\n"
          ]
        }
      ],
      "source": [
        "# split data\n",
        "from sklearn.model_selection import train_test_split\n",
        "X_train, X_test, y_train, y_test = train_test_split(features, target, test_size = 0.3, random_state = 42)\n",
        "print('length of X_train :', len(X_train))\n",
        "print('length of y_train :', len(y_train))\n",
        "print('length of X_test', len(X_test))\n",
        "print('length of y_test', len(y_test))"
      ]
    },
    {
      "cell_type": "code",
      "source": [
        "#Satisfaction distribution\n",
        "import matplotlib.pyplot as plt\n",
        "plt.figure()\n",
        "\n",
        "print(\"Value Counts:\\n\",y_test.value_counts())\n",
        "y_test.value_counts().plot.pie()\n",
        "plt.title('Satisfaction', size=14)\n",
        "plt.tight_layout()\n",
        "plt.show()"
      ],
      "metadata": {
        "colab": {
          "base_uri": "https://localhost:8080/",
          "height": 384
        },
        "id": "ZxkOfSdJPd-B",
        "outputId": "fa8e3806-e7f5-48cf-ff08-6df080e5914a"
      },
      "execution_count": null,
      "outputs": [
        {
          "output_type": "stream",
          "name": "stdout",
          "text": [
            "Value Counts:\n",
            " satisfaction\n",
            "0               17583\n",
            "1               13496\n",
            "dtype: int64\n"
          ]
        },
        {
          "output_type": "display_data",
          "data": {
            "text/plain": [
              "<Figure size 432x288 with 1 Axes>"
            ],
            "image/png": "[encoded data removed]"
          },
          "metadata": {}
        }
      ]
    },
    {
      "cell_type": "code",
      "source": [
        "# Import the model we are using\n",
        "from sklearn.ensemble import RandomForestClassifier\n",
        "\n",
        "# Instantiate model with 1000 decision trees\n",
        "rf = RandomForestClassifier(n_estimators = 1000, random_state = 42)\n",
        "# Train the model on training data\n",
        "rf.fit(X_train, y_train);"
      ],
      "metadata": {
        "colab": {
          "base_uri": "https://localhost:8080/"
        },
        "id": "MAGV2C6WPKQZ",
        "outputId": "8f1da3f4-6885-41ca-bbb7-f8f061023b77"
      },
      "execution_count": null,
      "outputs": [
        {
          "output_type": "stream",
          "name": "stderr",
          "text": [
            "/usr/local/lib/python3.7/dist-packages/ipykernel_launcher.py:7: DataConversionWarning: A column-vector y was passed when a 1d array was expected. Please change the shape of y to (n_samples,), for example using ravel().\n",
            "  import sys\n"
          ]
        }
      ]
    },
    {
      "cell_type": "code",
      "source": [
        "# Predict y data with classifier: \n",
        "y_predict = rf.predict(X_test)\n",
        "\n",
        "# Print results: \n",
        "from sklearn.metrics import classification_report, confusion_matrix\n",
        "\n",
        "print(\"confusion matrix:\\n\",confusion_matrix(y_test, y_predict))\n",
        "print(\"\\nModel report:\\n\",classification_report(y_test, y_predict)) "
      ],
      "metadata": {
        "id": "BOrAhc1YVKgg",
        "colab": {
          "base_uri": "https://localhost:8080/"
        },
        "outputId": "e88ca8d5-e6cb-4bef-c925-ed3e087ef768"
      },
      "execution_count": null,
      "outputs": [
        {
          "output_type": "stream",
          "name": "stdout",
          "text": [
            "confusion matrix:\n",
            " [[17223   360]\n",
            " [  803 12693]]\n",
            "\n",
            "Model report:\n",
            "               precision    recall  f1-score   support\n",
            "\n",
            "           0       0.96      0.98      0.97     17583\n",
            "           1       0.97      0.94      0.96     13496\n",
            "\n",
            "    accuracy                           0.96     31079\n",
            "   macro avg       0.96      0.96      0.96     31079\n",
            "weighted avg       0.96      0.96      0.96     31079\n",
            "\n"
          ]
        }
      ]
    },
    {
      "cell_type": "code",
      "source": [
        "#Accuracy\n",
        "#Import scikit-learn metrics module for accuracy calculation\n",
        "from sklearn import metrics\n",
        "# Model Accuracy, how often is the classifier correct?\n",
        "print(\"Accuracy:\",metrics.accuracy_score(y_test, y_predict))"
      ],
      "metadata": {
        "colab": {
          "base_uri": "https://localhost:8080/"
        },
        "id": "gno38wSPOYhc",
        "outputId": "e06d1d3a-bb36-4ba2-e3fd-810fe5cf61b9"
      },
      "execution_count": null,
      "outputs": [
        {
          "output_type": "stream",
          "name": "stdout",
          "text": [
            "Accuracy: 0.9625792335660736\n"
          ]
        }
      ]
    },
    {
      "cell_type": "code",
      "source": [
        "#Comparing the Actual class and the Predict class \n",
        "DataFinal=pd.DataFrame(X_test)\n",
        "DataFinal['Actual_class']=y_test\n",
        "DataFinal['Predict_class']=y_predict\n",
        "print(DataFinal.head())"
      ],
      "metadata": {
        "colab": {
          "base_uri": "https://localhost:8080/"
        },
        "id": "40VA7540Oisg",
        "outputId": "d8db9bbc-284f-4354-9866-563a78fe545e"
      },
      "execution_count": null,
      "outputs": [
        {
          "output_type": "stream",
          "name": "stdout",
          "text": [
            "       Age  Flight Distance  Inflight wifi service  \\\n",
            "18595   66              326                      5   \n",
            "19336   23             1142                      2   \n",
            "72501   31              309                      1   \n",
            "85210   50              794                      3   \n",
            "87824   34              143                      4   \n",
            "\n",
            "       Departure/Arrival time convenient  Ease of Online booking  \\\n",
            "18595                                  2                       2   \n",
            "19336                                  4                       2   \n",
            "72501                                  5                       1   \n",
            "85210                                  3                       3   \n",
            "87824                                  5                       3   \n",
            "\n",
            "       Gate location  Food and drink  Online boarding  Seat comfort  \\\n",
            "18595              2               2                4             1   \n",
            "19336              5               1                2             1   \n",
            "72501              1               5                1             5   \n",
            "85210              3               4                3             3   \n",
            "87824              5               4                4             4   \n",
            "\n",
            "       Inflight entertainment  ...  Gender_Male  Customer Type_Loyal Customer  \\\n",
            "18595                       5  ...            0                             1   \n",
            "19336                       1  ...            0                             1   \n",
            "72501                       5  ...            0                             1   \n",
            "85210                       3  ...            0                             1   \n",
            "87824                       4  ...            1                             1   \n",
            "\n",
            "       Customer Type_disloyal Customer  Type of Travel_Business travel  \\\n",
            "18595                                0                               1   \n",
            "19336                                0                               0   \n",
            "72501                                0                               0   \n",
            "85210                                0                               1   \n",
            "87824                                0                               1   \n",
            "\n",
            "       Type of Travel_Personal Travel  Class_Business  Class_Eco  \\\n",
            "18595                               0               0          1   \n",
            "19336                               1               0          1   \n",
            "72501                               1               0          1   \n",
            "85210                               0               0          1   \n",
            "87824                               0               0          1   \n",
            "\n",
            "       Class_Eco Plus  Actual_class  Predict_class  \n",
            "18595               0             1              1  \n",
            "19336               0             0              0  \n",
            "72501               0             0              0  \n",
            "85210               0             0              0  \n",
            "87824               0             1              1  \n",
            "\n",
            "[5 rows x 29 columns]\n"
          ]
        }
      ]
    },
    {
      "cell_type": "code",
      "source": [
        "#Export the dataset\n",
        "DataFinal.to_csv(\"Data Final.csv\", index=False)"
      ],
      "metadata": {
        "id": "P_J0uA1BOmFI"
      },
      "execution_count": null,
      "outputs": []
    }
  ],
  "metadata": {
    "colab": {
      "provenance": [],
      "include_colab_link": true
    },
    "kernelspec": {
      "display_name": "Python 3",
      "name": "python3"
    },
    "language_info": {
      "name": "python"
    }
  },
  "nbformat": 4,
  "nbformat_minor": 0
}